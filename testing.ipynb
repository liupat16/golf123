{
 "cells": [
  {
   "cell_type": "code",
   "execution_count": 3,
   "metadata": {
    "collapsed": false
   },
   "outputs": [
    {
     "name": "stdout",
     "output_type": "stream",
     "text": [
      "[73, 45, 17, 59, 27]\n"
     ]
    }
   ],
   "source": [
    "import random\n",
    "\n",
    "a=list(range(1, 101))\n",
    "print(random.sample(a, 5))"
   ]
  },
  {
   "cell_type": "code",
   "execution_count": 6,
   "metadata": {
    "collapsed": false
   },
   "outputs": [
    {
     "data": {
      "text/plain": [
       "['Mintty', 'Sammy', 'Felicia', 'Elsa', 'Annie']"
      ]
     },
     "execution_count": 6,
     "metadata": {},
     "output_type": "execute_result"
    }
   ],
   "source": [
    "names=\"Angela, Andy, Elsa, Felicia, Ellen, Mintty, Stella, Sammy, Annie\"\n",
    "b=names.split(\", \")\n",
    "random.sample(b, 5)"
   ]
  },
  {
   "cell_type": "code",
   "execution_count": 7,
   "metadata": {
    "collapsed": false
   },
   "outputs": [
    {
     "name": "stdout",
     "output_type": "stream",
     "text": [
      "[1, 2, 3, 4, 5, 6, 7, 8, 9, 10, 11, 12, 13, 14, 15, 16, 17, 18, 19, 20, 21, 22, 23, 24, 25, 26, 27, 28, 29, 30, 31, 32, 33, 34, 35, 36, 37, 38, 39, 40, 41, 42, 43, 44, 45, 46, 47, 48, 49, 50, 51, 52, 53, 54, 55, 56, 57, 58, 59, 60, 61, 62, 63, 64, 65, 66, 67, 68, 69, 70, 71, 72, 73, 74, 75, 76, 77, 78, 79, 80, 81, 82, 83, 84, 85, 86, 87, 88, 89, 90, 91, 92, 93, 94, 95, 96, 97, 98, 99, 100, 'Angela', 'Andy', 'Elsa', 'Felicia', 'Ellen', 'Mintty', 'Stella', 'Sammy', 'Annie']\n"
     ]
    }
   ],
   "source": [
    "print(a+b)"
   ]
  },
  {
   "cell_type": "code",
   "execution_count": 21,
   "metadata": {
    "collapsed": false,
    "scrolled": true
   },
   "outputs": [
    {
     "name": "stdout",
     "output_type": "stream",
     "text": [
      "['68789003', '53077074', '69796177、76868760、14952048', '000、059、478、569', '84568349', '89536536', '32149197、47672189、33669493', '161、539、838、037']\n"
     ]
    }
   ],
   "source": [
    "import urllib.request\n",
    "from html.parser import HTMLParser\n",
    "\n",
    "data=urllib.request.urlopen(\"http://invoice.etax.nat.gov.tw\")\n",
    "content=data.read().decode(\"utf_8\")\n",
    "data.close()\n",
    "\n",
    "class myparser(HTMLParser):\n",
    "    def __init__(self):\n",
    "        HTMLParser.__init__(self)\n",
    "        self.isNumber=0\n",
    "        self.numbers=[]\n",
    "    def handle_data(self, data):\n",
    "        if self.isNumber ==1:\n",
    "            self.numbers.append(data)\n",
    "            self.isNumber=0\n",
    "    def handle_starttag(self, tag, attrs):\n",
    "        if tag==\"span\" and attrs==[(\"class\", \"t18Red\")]:\n",
    "            self.isNumber=1\n",
    "    def handle_endtag(self, tag):\n",
    "        pass\n",
    "\n",
    "Parser=myparser()\n",
    "Parser.feed(content)\n",
    "print(Parser.numbers)"
   ]
  },
  {
   "cell_type": "code",
   "execution_count": 24,
   "metadata": {
    "collapsed": false
   },
   "outputs": [
    {
     "name": "stdout",
     "output_type": "stream",
     "text": [
      "['獨家》民進黨青年部主任請辭 擬投入台中議員初選', '不知蝶戀花遭停業 民眾購票不成直呼可惜', '司改國是會議分組名單 最快傍晚揭曉', '金正男被刺殺  傳女殺手疑似是越南籍', 'NBA》卡森斯與L.威廉斯末節互飆分 國王以1分差險勝湖人', '媽祖指示遶境多帶「筊」？ 恍神女連偷17組', '百歲老松遭毒死賣地 民眾轟花縣府制度殺樹', '陸元琪復出登台 陶晶瑩呼呼暗插袁惟仁', '遭兄強姦12歲產女  英最年輕媽媽獲真愛再懷孕', '華航何煖軒：今年獲利一定比去年好', 'MLB》春訓慢慢來比較快 葛蘭基這樣丟牛棚', '巷弄燈區具特色   謝謂君期許藝閣邁向國際舞台', 'MLB》膝傷複檢過關 小熊重砲有望兼差蹲捕', '北市公立幼兒園新增480名額 5/24起報名', '恐怖情人！不爽分手 男子尾隨前女友砍新歡', '詹啟賢訪苗 傅學鵬讚「國民黨唯一形象清新的人」', '誤PO汪笨湖死訊   徐國勇再發文： 保佑康復', '阿公這樣打扮…網友直呼：好帥、超潮的', '結合宗教力量 南投檢方反賄選', '平湖上的天秤   司法文物聯展具時代意義', '台股收盤上漲80.98點 報9799.76點', '黑寡婦二度離婚   稱一夫一妻制不自然', '台灣一哥盧彥勳力拼3盤 孟菲斯男網惜敗', '白髮才不會越拔越多！皮膚科醫師：拔頭髮這個動作的可怕後果是...']\n"
     ]
    }
   ],
   "source": [
    "import urllib.request\n",
    "\n",
    "from html.parser import HTMLParser\n",
    "\n",
    "data = urllib.request.urlopen('http://news.ltn.com.tw/list/BreakingNews')\n",
    "\n",
    "content = data.read().decode('utf_8')\n",
    "\n",
    "data.close()\n",
    "\n",
    "class myparser(HTMLParser):\n",
    "\n",
    "    def __init__(self):\n",
    "\n",
    "        HTMLParser.__init__(self)\n",
    "\n",
    "        self.isNumber = 0\n",
    "\n",
    "        self.numbers = []\n",
    "\n",
    "    def handle_data(self, data):\n",
    "\n",
    "        if self.isNumber == 1:\n",
    "\n",
    "            self.numbers.append(data)\n",
    "\n",
    "            self.isNumber = 0\n",
    "\n",
    "    def handle_starttag(self, tag, attrs): \n",
    "\n",
    "        if tag == 'a':\n",
    "\n",
    "            attrs = dict(attrs) \n",
    "\n",
    "            if attrs.get('class')=='picword':\n",
    "\n",
    "                self.isNumber = 1\n",
    "\n",
    "    def handle_endtag(self,tag):\n",
    "\n",
    "        pass\n",
    "\n",
    "Parser = myparser()\n",
    "\n",
    "Parser.feed(content)\n",
    "\n",
    "print(Parser.numbers)\n"
   ]
  },
  {
   "cell_type": "code",
   "execution_count": null,
   "metadata": {
    "collapsed": true
   },
   "outputs": [],
   "source": []
  }
 ],
 "metadata": {
  "kernelspec": {
   "display_name": "Python 3",
   "language": "python",
   "name": "python3"
  },
  "language_info": {
   "codemirror_mode": {
    "name": "ipython",
    "version": 3
   },
   "file_extension": ".py",
   "mimetype": "text/x-python",
   "name": "python",
   "nbconvert_exporter": "python",
   "pygments_lexer": "ipython3",
   "version": "3.6.0"
  }
 },
 "nbformat": 4,
 "nbformat_minor": 2
}
